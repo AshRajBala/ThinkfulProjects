{
 "cells": [
  {
   "cell_type": "markdown",
   "metadata": {},
   "source": [
    "# KNN NEIGHBORS EXAMPLE \n",
    "http://blog.yhathq.com/posts/classification-using-knn-and-python.html "
   ]
  },
  {
   "cell_type": "code",
   "execution_count": null,
   "metadata": {
    "collapsed": true
   },
   "outputs": [],
   "source": [
    "import pandas as pd\n",
    "import numpy as np\n",
    "import pylab as pl\n",
    "from sklearn.neighbors import KNeighborsClassifier\n",
    "\n",
    "%matplotlib inline\n",
    "\n",
    "df = pd.read_csv(\"https://s3.amazonaws.com/demo-datasets/wine.csv\")\n",
    "df"
   ]
  },
  {
   "cell_type": "code",
   "execution_count": 25,
   "metadata": {
    "collapsed": false
   },
   "outputs": [],
   "source": [
    "len(df)\n",
    "np.random.uniform(0, 1, len(df)) \n",
    "test_idx = np.random.uniform(0, 1, len(df)) <= 0.3"
   ]
  },
  {
   "cell_type": "code",
   "execution_count": 27,
   "metadata": {
    "collapsed": false
   },
   "outputs": [],
   "source": [
    "train = df[test_idx==True]\n",
    "test = df[test_idx==False]\n",
    "\n",
    "features = ['density', 'sulphates', 'residual_sugar']"
   ]
  },
  {
   "cell_type": "markdown",
   "metadata": {},
   "source": [
    "## Choosing the Right K"
   ]
  },
  {
   "cell_type": "code",
   "execution_count": null,
   "metadata": {
    "collapsed": true
   },
   "outputs": [],
   "source": [
    "results = []\n",
    "\n",
    "for n in range(1, 51, 2):\n",
    "    clf = KNeighborsClassifier(n_neighbors=n)\n",
    "    clf.fit(train[features], train['high_quality'])\n",
    "    preds = clf.predict(test[features])\n",
    "    accuracy = np.where(preds==test['high_quality'], 1, 0).sum() / float(len(test))\n",
    "    print(np.where(preds==test['high_quality'], 1, 0)) \n",
    "    #returns locations where prediction matches test data for high quality\n",
    "    #.sum(): Sums start and the items of an iterable from left to right and returns the total. Start defaults at 0.\n",
    "    print(np.where(preds==test['high_quality'], 1, 0).sum())\n",
    "    print(np.where(preds==test['high_quality'], 1, 0).sum() / float(len(test)))\n",
    "    print(\"Neighbors: %d, Accuracy: %3f\" % (n, accuracy)) \n",
    "    \n",
    "    results.append([n, accuracy])"
   ]
  },
  {
   "cell_type": "code",
   "execution_count": 26,
   "metadata": {
    "collapsed": false
   },
   "outputs": [
    {
     "data": {
      "image/png": "[encoded data removed]",
      "text/plain": [
       "<matplotlib.figure.Figure at 0x10a505160>"
      ]
     },
     "metadata": {},
     "output_type": "display_data"
    }
   ],
   "source": [
    "results = pd.DataFrame(results, columns=[\"n\", \"accuracy\"])\n",
    "\n",
    "pl.plot(results.n, results.accuracy)\n",
    "pl.title(\"Accuracy with Increasing K\")\n",
    "pl.show()"
   ]
  },
  {
   "cell_type": "markdown",
   "metadata": {},
   "source": [
    "## Calculating the Neighbors : What Distance Measure to Use"
   ]
  },
  {
   "cell_type": "markdown",
   "metadata": {},
   "source": [
    "Using scikit-learn you can change the way you calculate distance using the weights parameter. We have two weighting functions out of the box: uniform, which weights everything equally, and distance, which weights points by the inverse of their distance.\n",
    "\n",
    "You can also create your own distance function. In the example below I created a distance measure that just takes the log of the measures. When I run it through the same script with 3 neighbors, I actually get the best performance using my custom function."
   ]
  },
  {
   "cell_type": "code",
   "execution_count": 29,
   "metadata": {
    "collapsed": false
   },
   "outputs": [
    {
     "name": "stdout",
     "output_type": "stream",
     "text": [
      "Weights: uniform, Accuracy: 0.763232\n",
      "Weights: distance, Accuracy: 0.762579\n",
      "Weights: <function <lambda> at 0x10a961400>, Accuracy: 0.801786\n",
      "                        weight_method  accuracy\n",
      "0                             uniform  0.763232\n",
      "1                            distance  0.762579\n",
      "2  <function <lambda> at 0x10a961400>  0.801786\n"
     ]
    }
   ],
   "source": [
    "results = []\n",
    "for w in ['uniform', 'distance', lambda x: np.log(x)]:\n",
    "    clf = KNeighborsClassifier(3, weights=w)\n",
    "    w = str(w)\n",
    "    clf.fit(train[features], train['high_quality'])\n",
    "    preds = clf.predict(test[features])\n",
    "    accuracy = np.where(preds==test['high_quality'], 1, 0).sum() / float(len(test))\n",
    "    print(\"Weights: %s, Accuracy: %3f\" % (w, accuracy))\n",
    "\n",
    "    results.append([w, accuracy])\n",
    "\n",
    "results = pd.DataFrame(results, columns=[\"weight_method\", \"accuracy\"])\n",
    "print(results)"
   ]
  }
 ],
 "metadata": {
  "kernelspec": {
   "display_name": "Python 3",
   "language": "python",
   "name": "python3"
  },
  "language_info": {
   "codemirror_mode": {
    "name": "ipython",
    "version": 3
   },
   "file_extension": ".py",
   "mimetype": "text/x-python",
   "name": "python",
   "nbconvert_exporter": "python",
   "pygments_lexer": "ipython3",
   "version": "3.4.3"
  }
 },
 "nbformat": 4,
 "nbformat_minor": 0
}
