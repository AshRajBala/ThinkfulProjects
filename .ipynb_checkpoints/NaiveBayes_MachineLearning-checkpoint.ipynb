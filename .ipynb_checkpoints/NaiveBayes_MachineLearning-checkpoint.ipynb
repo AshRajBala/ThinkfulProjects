{
 "cells": [
  {
   "cell_type": "markdown",
   "metadata": {},
   "source": [
    "# NAIVE BAYES\n",
    "\n",
    "## INTRODUCTION"
   ]
  },
  {
   "cell_type": "markdown",
   "metadata": {},
   "source": [
    "The probabilistic model of Naive Bayes classifiers is based on Bayes’ Theorem, while the adjective “naive” comes from the assumption that the features in the data are mutually independent."
   ]
  },
  {
   "cell_type": "markdown",
   "metadata": {},
   "source": [
    "More often than not, the features in the data aren't mutually independent, but Naive Bayes classifiers still perform well, and they perform especially well on small sample sizes, which is one of their main advantages. "
   ]
  },
  {
   "cell_type": "markdown",
   "metadata": {},
   "source": [
    "Very simply, a Naive Bayes classifier will take an observation, compute the Bayesian probability of each possible hypothesis, and select the hypothesis with the highest probability (the Maximum A Posteriori (MAP) hypothesis) to classify the observation."
   ]
  },
  {
   "cell_type": "code",
   "execution_count": 3,
   "metadata": {
    "collapsed": true
   },
   "outputs": [],
   "source": [
    "# source of data: https://www.dropbox.com/s/hg0tqy6saqeoq0j/ideal_weight.csv?dl=0\n",
    "# local source: /Users/AshRajBala/Repositories/ThinkfulProjects/ideal_weight.csv\n",
    "\n",
    "import pandas as pd \n",
    "import matplotlib.pyplot as plt\n",
    "import numpy\n",
    "from sklearn.naive_bayes import GaussianNB\n",
    "from sklearn.preprocessing import MinMaxScaler\n",
    "from sklearn.naive_bayes import MultinomialNB\n",
    "%matplotlib inline\n",
    "\n",
    "data = pd.read_csv(\"/Users/AshRajBala/Repositories/ThinkfulProjects/ideal_weight.csv\", sep=',')\n",
    "\n",
    "# Remove single quotes from column names\n",
    "helper = []\n",
    "for columnname in data.columns:\n",
    "    helper.append(columnname[1:-1]) #extract string without quotes\n",
    "    #See also http://stackoverflow.com/questions/14419206/what-does-1-mean-in-python\n",
    "data.columns = helper"
   ]
  },
  {
   "cell_type": "code",
   "execution_count": 4,
   "metadata": {
    "collapsed": true
   },
   "outputs": [],
   "source": [
    "# Remove single quotes from sex observation data\n",
    "helper = []\n",
    "for entriesinsexcol in data['sex']:\n",
    "    helper.append(entriesinsexcol[1:-1])\n",
    "data['sex'] = helper"
   ]
  },
  {
   "cell_type": "code",
   "execution_count": 5,
   "metadata": {
    "collapsed": false
   },
   "outputs": [
    {
     "data": {
      "image/png": "[encoded data removed]",
      "text/plain": [
       "<matplotlib.figure.Figure at 0x109cf52b0>"
      ]
     },
     "metadata": {},
     "output_type": "display_data"
    }
   ],
   "source": [
    "# Graph histogram for ideal weight and actual weight\n",
    "plt.hist(data['actual'], bins=20, alpha=0.5, label='actual')\n",
    "plt.hist(data['ideal'], bins=20, alpha=0.5, label='ideal')\n",
    "plt.legend(loc='upper right')\n",
    "plt.show()"
   ]
  },
  {
   "cell_type": "code",
   "execution_count": 9,
   "metadata": {
    "collapsed": false
   },
   "outputs": [
    {
     "data": {
      "text/plain": [
       "(array([  1.,   3.,  10.,  38.,  45.,  57.,  17.,   4.,   5.,   2.]),\n",
       " array([-35., -26., -17.,  -8.,   1.,  10.,  19.,  28.,  37.,  46.,  55.]),\n",
       " <a list of 10 Patch objects>)"
      ]
     },
     "execution_count": 9,
     "metadata": {},
     "output_type": "execute_result"
    },
    {
     "data": {
      "image/png": "[encoded data removed]",
      "text/plain": [
       "<matplotlib.figure.Figure at 0x10a206b70>"
      ]
     },
     "metadata": {},
     "output_type": "display_data"
    }
   ],
   "source": [
    "# Plot distribution of difference in weight\n",
    "plt.hist(data['diff'], alpha=0.5, label='actual-ideal')"
   ]
  },
  {
   "cell_type": "code",
   "execution_count": 10,
   "metadata": {
    "collapsed": false
   },
   "outputs": [
    {
     "data": {
      "image/png": "[encoded data removed]",
      "text/plain": [
       "<matplotlib.figure.Figure at 0x10a5f1278>"
      ]
     },
     "metadata": {},
     "output_type": "display_data"
    }
   ],
   "source": [
    "# Plot distribution of difference in weight\n",
    "plt.hist(data['diff'], alpha=0.5, label='actual-ideal')\n",
    "\n",
    "# Map 'sex' to a categorical variable. 0 = female, 1 = male\n",
    "data['sex'] = pd.Categorical(data['sex']).codes #pd.Caregorical(data['sex']).labels has been deprecated. "
   ]
  },
  {
   "cell_type": "code",
   "execution_count": null,
   "metadata": {
    "collapsed": true
   },
   "outputs": [],
   "source": []
  }
 ],
 "metadata": {
  "kernelspec": {
   "display_name": "Python 3",
   "language": "python",
   "name": "python3"
  },
  "language_info": {
   "codemirror_mode": {
    "name": "ipython",
    "version": 3
   },
   "file_extension": ".py",
   "mimetype": "text/x-python",
   "name": "python",
   "nbconvert_exporter": "python",
   "pygments_lexer": "ipython3",
   "version": "3.4.3"
  }
 },
 "nbformat": 4,
 "nbformat_minor": 0
}
