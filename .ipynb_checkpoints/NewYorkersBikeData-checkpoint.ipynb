{
 "cells": [
  {
   "cell_type": "markdown",
   "metadata": {},
   "source": [
    "# New Yorkers Bike Data \n",
    "\n",
    "In this exercise, the goal is to record the number of bikes available every minute for an hour across all of New York City in order to see which station or set of stations is the most active in New York City for that hour. \n",
    "\n",
    "Activity is defined as the total number of bicycles taken out or returned in an hour. So if 2 bikes are brought in and 4 bikes are taken out, that station has an activity level of 6."
   ]
  },
  {
   "cell_type": "markdown",
   "metadata": {},
   "source": [
    "In the first line, we need to import the requests package to handle web requests. Requests allows us to download data from any online resource. "
   ]
  },
  {
   "cell_type": "code",
   "execution_count": 1,
   "metadata": {
    "collapsed": true
   },
   "outputs": [],
   "source": [
    "import requests"
   ]
  },
  {
   "cell_type": "code",
   "execution_count": 2,
   "metadata": {
    "collapsed": false
   },
   "outputs": [],
   "source": [
    "r = requests.get('http://www.citibikenyc.com/stations/json')"
   ]
  },
  {
   "cell_type": "markdown",
   "metadata": {},
   "source": [
    "See also: http://docs.python-requests.org/en/latest/\n",
    "\n",
    "%install_ext https://raw.github.com/tkf/ipython-sqlitemagic/master/sqlitemagic.py #Installed sqlitemagic.py"
   ]
  },
  {
   "cell_type": "code",
   "execution_count": 3,
   "metadata": {
    "collapsed": false
   },
   "outputs": [
    {
     "name": "stderr",
     "output_type": "stream",
     "text": [
      "//anaconda/lib/python3.4/site-packages/IPython/config.py:13: ShimWarning: The `IPython.config` package has been deprecated. You should import from traitlets.config instead.\n",
      "  \"You should import from traitlets.config instead.\", ShimWarning)\n",
      "//anaconda/lib/python3.4/site-packages/IPython/utils/traitlets.py:5: UserWarning: IPython.utils.traitlets has moved to a top-level traitlets package.\n",
      "  warn(\"IPython.utils.traitlets has moved to a top-level traitlets package.\")\n"
     ]
    }
   ],
   "source": [
    "%load_ext sql"
   ]
  },
  {
   "cell_type": "code",
   "execution_count": 4,
   "metadata": {
    "collapsed": false
   },
   "outputs": [
    {
     "data": {
      "text/plain": [
       "'Connected: None@citi_bike.db'"
      ]
     },
     "execution_count": 4,
     "metadata": {},
     "output_type": "execute_result"
    }
   ],
   "source": [
    "%sql sqlite:///citi_bike.db"
   ]
  },
  {
   "cell_type": "markdown",
   "metadata": {
    "collapsed": false
   },
   "source": [
    "If you type the following: \n",
    "\n",
    "r.text\n",
    "\n",
    "The partial output is:\n",
    "\n",
    "'{\"executionTime\":\"2015-09-15 05:07:41 PM\",\"stationBeanList\":[{\"id\":72,\"stationName\":\"W 52 St & 11 Ave\",\"availableDocks\":36,\"totalDocks\":39,\"latitude\":40.76727216,\"longitude\":-73.99392888,\"statusValue\":\"In Service\",\"statusKey\":1,\"availableBikes\":3,\"stAddress1\":\"W 52 St & 11 Ave\",\"stAddress2\":\"\",\"city\":\"\",\"postalCode\":\"\",\"location\":\"\",\"altitude\":\"\",\"testStation\":false,\"lastCommunicationTime\":\"2015-09-15 05:07:21 PM\",\"landMark\":\"\"},{\"id\":79,\"stationName\":\"Franklin St & W Broadway\",\"availableDocks\":2,\"totalDocks\":33,\"latitude\":40.71911552,\"longitude\":-74.00666661,\"statusValue\":\"In Service\",\"statusKey\":1,\"availableBikes\":29,\"stAddress1\":\"Franklin St & W Broadway\",\"stAddress2\":\"\",\"city\":\"\",\"postalCode\":\"\",\"location\":\"\",\"altitude\":\"\",\"testStation\":false,\"lastCommunicationTime\":\"2015-09-15 05:07:33 PM\",\"landMark\":\"\"},{\"id\":82,\"stationName\":\"St James Pl & Pearl St\",\"availableDocks\":24,\"totalDocks\":27,\"latitude\":40.71117416,\"longitude\":-74.00016545,\"statusValue\":\"In Service\",\"statusKey\":1,\"availableBikes\":3,\"stAddress1\":\"St James Pl & Pearl St\",\"stAddress2\":\"\",\"city\":\"\",\"postalCode\":\"\",\"location\":\"\",\"altitude\":\"\",\"testStation\":false,\"lastCommunic...\n",
    "\n",
    "\n"
   ]
  },
  {
   "cell_type": "markdown",
   "metadata": {},
   "source": [
    "If you're using Chrome, you can install the JSONView extension that will automatically format JSON files to be more readible in the browser."
   ]
  },
  {
   "cell_type": "markdown",
   "metadata": {
    "collapsed": false
   },
   "source": [
    "If you type: \n",
    "\n",
    "r.json()\n",
    "\n",
    "The partial output is: \n",
    "\n",
    "{'executionTime': '2015-09-15 05:07:41 PM',\n",
    " 'stationBeanList': [{'altitude': '',\n",
    "   'availableBikes': 3,\n",
    "   'availableDocks': 36,\n",
    "   'city': '',\n",
    "   'id': 72,\n",
    "   'landMark': '',\n",
    "   'lastCommunicationTime': '2015-09-15 05:07:21 PM',\n",
    "   'latitude': 40.76727216,\n",
    "   'location': '',\n",
    "   'longitude': -73.99392888,\n",
    "   'postalCode': '',\n",
    "   'stAddress1': 'W 52 St & 11 Ave',\n",
    "   'stAddress2': '',\n",
    "   'stationName': 'W 52 St & 11 Ave',\n",
    "   'statusKey': 1,\n",
    "   'statusValue': 'In Service',\n",
    "   'testStation': False,\n",
    "   'totalDocks': 39},\n",
    "  {'altitude': '',\n",
    "   'availableBikes': 29,\n",
    "   'availableDocks': 2,\n",
    "   'city': '',\n",
    "   'id': 79,\n",
    "   'landMark': '',\n",
    "   'lastCommunicationTime': '2015-09-15 05:07:33 PM',\n",
    "   'latitude': 40.71911552,\n",
    "   'location': '',\n",
    "   'longitude': -74.00666661,\n",
    "   'postalCode': '',\n",
    "   'stAddress1': 'Franklin St & W Broadway',\n",
    "   'stAddress2': '',\n",
    "   'stationName': 'Franklin St & W Broadway',\n",
    "   'statusKey': 1,\n",
    "   'statusValue': 'In Service',\n",
    "   'testStation': False,\n",
    "   'totalDocks': 33},\n",
    "  {'altitude': '',\n",
    "   'availableBikes': 3,\n",
    "   'availableDocks': 24,\n",
    "   'city': '',\n",
    "   'id': 82,\n",
    "   'landMark': '',\n",
    "   'lastCommunicationTime': '2015-09-15 05:05:21 PM',\n",
    "   'latitude': 40.71117416,\n",
    "   'location': '',\n",
    "   'longitude': -74.00016545,\n",
    "   'postalCode': '',\n",
    "   'stAddress1': 'St James Pl & Pearl St',\n",
    "   'stAddress2': '',\n",
    "   'stationName': 'St James Pl & Pearl St',\n",
    "   'statusKey': 1,\n",
    "   'statusValue': 'In Service',\n",
    "   'testStation': False,\n",
    "   'totalDocks': 27},"
   ]
  },
  {
   "cell_type": "markdown",
   "metadata": {},
   "source": [
    "You can see the data is formatted into what's called JavaScript Object Notation (JSON). This is a standardized way of formatting data that helps display not only the values but the structure of the data, something that gets lost when data is displayed in a CSV. \n",
    "\n",
    "You access elements in a JSON in the same way you access items in a dictionary, which means you reference values by their key. To get a list of keys, you can use the keys() function, which will return a list of the keys available at that level of the JSON. "
   ]
  },
  {
   "cell_type": "code",
   "execution_count": 7,
   "metadata": {
    "collapsed": false
   },
   "outputs": [
    {
     "data": {
      "text/plain": [
       "dict_keys(['stationBeanList', 'executionTime'])"
      ]
     },
     "execution_count": 7,
     "metadata": {},
     "output_type": "execute_result"
    }
   ],
   "source": [
    "r.json().keys()"
   ]
  },
  {
   "cell_type": "code",
   "execution_count": 8,
   "metadata": {
    "collapsed": false
   },
   "outputs": [
    {
     "data": {
      "text/plain": [
       "'2015-09-15 05:07:41 PM'"
      ]
     },
     "execution_count": 8,
     "metadata": {},
     "output_type": "execute_result"
    }
   ],
   "source": [
    "r.json()['executionTime']"
   ]
  },
  {
   "cell_type": "markdown",
   "metadata": {},
   "source": [
    "The executionTime key gives a string with the time that the file was created. "
   ]
  },
  {
   "cell_type": "markdown",
   "metadata": {},
   "source": [
    "The stationBeanList key gives us the list of stations. "
   ]
  },
  {
   "cell_type": "code",
   "execution_count": 10,
   "metadata": {
    "collapsed": false
   },
   "outputs": [
    {
     "data": {
      "text/plain": [
       "{'altitude': '',\n",
       " 'availableBikes': 3,\n",
       " 'availableDocks': 36,\n",
       " 'city': '',\n",
       " 'id': 72,\n",
       " 'landMark': '',\n",
       " 'lastCommunicationTime': '2015-09-15 05:07:21 PM',\n",
       " 'latitude': 40.76727216,\n",
       " 'location': '',\n",
       " 'longitude': -73.99392888,\n",
       " 'postalCode': '',\n",
       " 'stAddress1': 'W 52 St & 11 Ave',\n",
       " 'stAddress2': '',\n",
       " 'stationName': 'W 52 St & 11 Ave',\n",
       " 'statusKey': 1,\n",
       " 'statusValue': 'In Service',\n",
       " 'testStation': False,\n",
       " 'totalDocks': 39}"
      ]
     },
     "execution_count": 10,
     "metadata": {},
     "output_type": "execute_result"
    }
   ],
   "source": [
    "r.json()['stationBeanList'][0]"
   ]
  },
  {
   "cell_type": "markdown",
   "metadata": {},
   "source": [
    "You can test that you have all the fields (important for setting up a database) by running the data through a loop and gathering all the fields together:"
   ]
  },
  {
   "cell_type": "code",
   "execution_count": 11,
   "metadata": {
    "collapsed": false
   },
   "outputs": [],
   "source": [
    "key_list = [] #unique list of keys for each station listing\n",
    "for station in r.json()['stationBeanList']:\n",
    "    for k in station.keys():\n",
    "        if k not in key_list:\n",
    "            key_list.append(k)"
   ]
  },
  {
   "cell_type": "code",
   "execution_count": 12,
   "metadata": {
    "collapsed": false
   },
   "outputs": [
    {
     "data": {
      "text/plain": [
       "['landMark',\n",
       " 'postalCode',\n",
       " 'lastCommunicationTime',\n",
       " 'location',\n",
       " 'testStation',\n",
       " 'statusKey',\n",
       " 'totalDocks',\n",
       " 'latitude',\n",
       " 'longitude',\n",
       " 'stationName',\n",
       " 'stAddress2',\n",
       " 'stAddress1',\n",
       " 'availableDocks',\n",
       " 'availableBikes',\n",
       " 'statusValue',\n",
       " 'id',\n",
       " 'altitude',\n",
       " 'city']"
      ]
     },
     "execution_count": 12,
     "metadata": {},
     "output_type": "execute_result"
    }
   ],
   "source": [
    "key_list "
   ]
  },
  {
   "cell_type": "markdown",
   "metadata": {},
   "source": [
    "Because the data is in json format, we need to do something a little different to import it. "
   ]
  },
  {
   "cell_type": "code",
   "execution_count": 5,
   "metadata": {
    "collapsed": false
   },
   "outputs": [],
   "source": [
    "from pandas.io.json import json_normalize\n",
    "\n",
    "df = json_normalize(r.json()['stationBeanList'])"
   ]
  },
  {
   "cell_type": "markdown",
   "metadata": {},
   "source": [
    "Here, we are taking the stationBeanList and passing values associated with it to pandas to create a DataFrame out of the data instead of the whole JSON. "
   ]
  },
  {
   "cell_type": "markdown",
   "metadata": {},
   "source": [
    "## DESCRIPTIVE STATISTICS\n",
    "\n",
    "### PLOTS:"
   ]
  },
  {
   "cell_type": "markdown",
   "metadata": {},
   "source": [
    "Checking the range of values:"
   ]
  },
  {
   "cell_type": "code",
   "execution_count": 6,
   "metadata": {
    "collapsed": false
   },
   "outputs": [
    {
     "data": {
      "text/plain": [
       "<matplotlib.axes._subplots.AxesSubplot at 0x10a6bfcc0>"
      ]
     },
     "execution_count": 6,
     "metadata": {},
     "output_type": "execute_result"
    },
    {
     "data": {
      "image/png": "[encoded data removed]",
      "text/plain": [
       "<matplotlib.figure.Figure at 0x109b4e6a0>"
      ]
     },
     "metadata": {},
     "output_type": "display_data"
    }
   ],
   "source": [
    "import matplotlib.pyplot as plt\n",
    "import pandas as pd\n",
    "%matplotlib inline\n",
    "\n",
    "df['availableBikes'].hist()\n"
   ]
  },
  {
   "cell_type": "code",
   "execution_count": 15,
   "metadata": {
    "collapsed": false
   },
   "outputs": [
    {
     "data": {
      "text/plain": [
       "<matplotlib.axes._subplots.AxesSubplot at 0x10b305eb8>"
      ]
     },
     "execution_count": 15,
     "metadata": {},
     "output_type": "execute_result"
    },
    {
     "data": {
      "image/png": "[encoded data removed]",
      "text/plain": [
       "<matplotlib.figure.Figure at 0x109dfa710>"
      ]
     },
     "metadata": {},
     "output_type": "display_data"
    }
   ],
   "source": [
    "df['totalDocks'].hist()"
   ]
  },
  {
   "cell_type": "markdown",
   "metadata": {
    "collapsed": true
   },
   "source": [
    "SUMMARY: We have a simple JSON structure:\n",
    "\n",
    "root\n",
    "    |__executionTime\n",
    "    |__stationBeanList\n",
    "        |__availableDocks\n",
    "        |__totalDocks\n",
    "        |__city\n",
    "        |__altitude\n",
    "        |__stAddress2\n",
    "        |__longitude\n",
    "        |__lastCommunicationTime\n",
    "        |__postalCode\n",
    "        |__statusValue\n",
    "        |__testStation\n",
    "        |__stAddress1\n",
    "        |__stationName\n",
    "        |__landMark\n",
    "        |__latitude\n",
    "        |__statusKey\n",
    "        |__availableBikes\n",
    "        |__id\n",
    "        |__location"
   ]
  },
  {
   "cell_type": "markdown",
   "metadata": {},
   "source": [
    "We navigated using the keys() function to explore the various level (in this case, 2 levels below the root level), and we have a good idea of range values. "
   ]
  },
  {
   "cell_type": "markdown",
   "metadata": {},
   "source": [
    "### MEAN AND MEDIAN"
   ]
  },
  {
   "cell_type": "code",
   "execution_count": 16,
   "metadata": {
    "collapsed": false
   },
   "outputs": [
    {
     "data": {
      "text/plain": [
       "29.561023622047244"
      ]
     },
     "execution_count": 16,
     "metadata": {},
     "output_type": "execute_result"
    }
   ],
   "source": [
    "df['totalDocks'].mean()"
   ]
  },
  {
   "cell_type": "markdown",
   "metadata": {},
   "source": [
    "To only find the mean of the stations that were active, you would simply add a conditional, to filter the DataFrame (only the rows for the True values are in the result):"
   ]
  },
  {
   "cell_type": "code",
   "execution_count": 17,
   "metadata": {
    "collapsed": false
   },
   "outputs": [
    {
     "data": {
      "text/plain": [
       "33.857798165137616"
      ]
     },
     "execution_count": 17,
     "metadata": {},
     "output_type": "execute_result"
    }
   ],
   "source": [
    "condition = (df['statusValue'] == 'In Service')\n",
    "df[condition]['totalDocks'].mean()"
   ]
  },
  {
   "cell_type": "code",
   "execution_count": 18,
   "metadata": {
    "collapsed": false
   },
   "outputs": [
    {
     "data": {
      "text/plain": [
       "31.0"
      ]
     },
     "execution_count": 18,
     "metadata": {},
     "output_type": "execute_result"
    }
   ],
   "source": [
    "df['totalDocks'].median()"
   ]
  },
  {
   "cell_type": "code",
   "execution_count": 19,
   "metadata": {
    "collapsed": false
   },
   "outputs": [
    {
     "data": {
      "text/plain": [
       "31.0"
      ]
     },
     "execution_count": 19,
     "metadata": {},
     "output_type": "execute_result"
    }
   ],
   "source": [
    "df[df['statusValue'] == 'In Service']['totalDocks'].median()"
   ]
  },
  {
   "cell_type": "markdown",
   "metadata": {},
   "source": [
    "In order to capture both changing and statis reference information in the dataset, we're going to create a reference table that tells us what info remains static and what is dynamic (or changing)."
   ]
  },
  {
   "cell_type": "markdown",
   "metadata": {},
   "source": [
    "The SQL statement we'll be using to create a reference table looks like this:"
   ]
  },
  {
   "cell_type": "markdown",
   "metadata": {},
   "source": [
    "#### STATIC TABLE:\n",
    "\n",
    "Our first step is to create reference table with static info, with the station ID (id) number as the key value. "
   ]
  },
  {
   "cell_type": "markdown",
   "metadata": {},
   "source": [
    "CREATE TABLE citibike_reference (\n",
    "    id INT PRIMARY KEY,\n",
    "    totalDocks INT,\n",
    "    city TEXT,\n",
    "    altitude INT, \n",
    "    stAddress2 TEXT,\n",
    "    longitude NUMERIC,\n",
    "    postalCode TEXT,\n",
    "    testStation TEXT,\n",
    "    stAddress1 TEXT,\n",
    "    stationName TEXT,\n",
    "    landMark TEXT,\n",
    "    latitude NUMERIC,\n",
    "    location TEXT\n",
    ")"
   ]
  },
  {
   "cell_type": "markdown",
   "metadata": {},
   "source": [
    "Let's create the table to store the data:"
   ]
  },
  {
   "cell_type": "code",
   "execution_count": 8,
   "metadata": {
    "collapsed": false
   },
   "outputs": [
    {
     "name": "stdout",
     "output_type": "stream",
     "text": [
      "(OperationalError) database is locked 'CREATE TABLE citibike_reference (\\n    id INT PRIMARY KEY,\\n    totalDocks INT,\\n    city TEXT,\\n    altitude INT, \\n    stAddress2 TEXT,\\n    longitude NUMERIC,\\n    postalCode TEXT,\\n    testStation TEXT,\\n    stAddress1 TEXT,\\n    stationName TEXT,\\n    landMark TEXT,\\n    latitude NUMERIC,\\n    location TEXT\\n)' ()\n"
     ]
    }
   ],
   "source": [
    "%%sql\n",
    "CREATE TABLE citibike_reference (\n",
    "    id INT PRIMARY KEY,\n",
    "    totalDocks INT,\n",
    "    city TEXT,\n",
    "    altitude INT, \n",
    "    stAddress2 TEXT,\n",
    "    longitude NUMERIC,\n",
    "    postalCode TEXT,\n",
    "    testStation TEXT,\n",
    "    stAddress1 TEXT,\n",
    "    stationName TEXT,\n",
    "    landMark TEXT,\n",
    "    latitude NUMERIC,\n",
    "    location TEXT\n",
    ")"
   ]
  },
  {
   "cell_type": "code",
   "execution_count": 9,
   "metadata": {
    "collapsed": false
   },
   "outputs": [
    {
     "name": "stdout",
     "output_type": "stream",
     "text": [
      "(OperationalError) no such table: citibike_reference 'select * from citibike_reference' ()\n"
     ]
    }
   ],
   "source": [
    "%sql select * from citibike_reference"
   ]
  },
  {
   "cell_type": "markdown",
   "metadata": {},
   "source": [
    "Traditional approach:"
   ]
  },
  {
   "cell_type": "code",
   "execution_count": 32,
   "metadata": {
    "collapsed": false
   },
   "outputs": [],
   "source": [
    "import sqlite3 as lite\n",
    "con = lite.connect('citi_bike.db') \n",
    "cur = con.cursor()\n",
    "with con: \n",
    "    cur.execute('CREATE TABLE citibike_reference (id INT PRIMARY KEY, totalDocks INT, city TEXT, altitude INT, stAddress2 TEXT, longitude NUMERIC, postalCode TEXT, testStation TEXT, stAddress1 TEXT, stationName TEXT, landMark TEXT, latitude NUMERIC, location TEXT )')"
   ]
  },
  {
   "cell_type": "markdown",
   "metadata": {},
   "source": [
    "We use the with keyword as a context manager. At the end of the indented code block, the transaction will commit (be saved) to the database. It's the same result as using con.commit() but generally using with is cleaner and more readable."
   ]
  },
  {
   "cell_type": "code",
   "execution_count": 22,
   "metadata": {
    "collapsed": false
   },
   "outputs": [
    {
     "data": {
      "text/plain": [
       "'/Users/AshRajBala'"
      ]
     },
     "execution_count": 22,
     "metadata": {},
     "output_type": "execute_result"
    }
   ],
   "source": [
    "pwd"
   ]
  },
  {
   "cell_type": "markdown",
   "metadata": {},
   "source": [
    "Now let's populate the table with values:"
   ]
  },
  {
   "cell_type": "code",
   "execution_count": 34,
   "metadata": {
    "collapsed": false
   },
   "outputs": [],
   "source": [
    "sql = \"INSERT INTO citibike_reference (id, totalDocks, city, altitude, stAddress2, longitude, postalCode, testStation, stAddress1, stationName, landMark, latitude, location) VALUES (?,?,?,?,?,?,?,?,?,?,?,?,?)\"\n",
    "\n",
    "#for loop to populate values in the database\n",
    "with con:\n",
    "    for station in r.json()['stationBeanList']:\n",
    "        #id, totalDocks, city, altitude, stAddress2, longitude, postalCode, testStation, stAddress1, stationName, landMark, latitude, location)\n",
    "        cur.execute(sql,(station['id'],station['totalDocks'],station['city'],station['altitude'],station['stAddress2'],station['longitude'],station['postalCode'],station['testStation'],station['stAddress1'],station['stationName'],station['landMark'],station['latitude'],station['location']))"
   ]
  },
  {
   "cell_type": "markdown",
   "metadata": {},
   "source": [
    "The type of SQL query we're using in this case is called a \"parameterized query\", with ? standing in for values, which we reference in the cur.execute() function. "
   ]
  },
  {
   "cell_type": "markdown",
   "metadata": {},
   "source": [
    "#### DYNAMIC TABLE:"
   ]
  },
  {
   "cell_type": "markdown",
   "metadata": {},
   "source": [
    "To get multiple readings by minute, the availablebikes table is going to need to be a little different. In this case, the station ID (id) is going to be the column name, but since the column name can't start with a number, you'll need to put a character in front of the number."
   ]
  },
  {
   "cell_type": "code",
   "execution_count": null,
   "metadata": {
    "collapsed": false
   },
   "outputs": [],
   "source": [
    "#extract the column from the DataFrame and put them into a list\n",
    "station_ids = df['id'].tolist() \n",
    "\n",
    "#add the '_' to the station name and also add the data type for SQLite\n",
    "station_ids = ['_' + str(x) + ' INT' for x in station_ids]\n",
    "\n",
    "#create the table\n",
    "#in this case, we're concatentating the string and joining all the station ids (now with '_' and 'INT' added)\n",
    "with con:\n",
    "    cur.execute(\"CREATE TABLE available_bikes ( execution_time INT, \" +  \", \".join(station_ids) + \");\")"
   ]
  },
  {
   "cell_type": "markdown",
   "metadata": {},
   "source": [
    "Now let's populate it with our values for available bikes:"
   ]
  },
  {
   "cell_type": "code",
   "execution_count": null,
   "metadata": {
    "collapsed": true
   },
   "outputs": [],
   "source": [
    "# a package with datetime objects\n",
    "import time\n",
    "\n",
    "# a package for parsing a string into a Python datetime object\n",
    "from dateutil.parser import parse \n",
    "\n",
    "import collections\n",
    "\n",
    "\n",
    "#take the string and parse it into a Python datetime object\n",
    "exec_time = parse(r.json()['executionTime'])"
   ]
  },
  {
   "cell_type": "markdown",
   "metadata": {},
   "source": [
    "We create an entry for the execution time by inserting it into the database:"
   ]
  },
  {
   "cell_type": "code",
   "execution_count": null,
   "metadata": {
    "collapsed": true
   },
   "outputs": [],
   "source": [
    "with con:\n",
    "    cur.execute('INSERT INTO available_bikes (execution_time) VALUES (?)', (exec_time.strftime('%s'),))"
   ]
  },
  {
   "cell_type": "markdown",
   "metadata": {},
   "source": [
    "Then we iterate through the stations in the \"stationBeanList\":"
   ]
  },
  {
   "cell_type": "code",
   "execution_count": null,
   "metadata": {
    "collapsed": false
   },
   "outputs": [],
   "source": [
    "id_bikes = collections.defaultdict(int) #defaultdict to store available bikes by station\n",
    "\n",
    "#loop through the stations in the station list\n",
    "for station in r.json()['stationBeanList']:\n",
    "    id_bikes[station['id']] = station['availableBikes']\n",
    "\n",
    "#iterate through the defaultdict to update the values in the database\n",
    "with con:\n",
    "    for k, v in id_bikes.items():\n",
    "        cur.execute(\"UPDATE available_bikes SET _\" + str(k) + \" = \" + str(v) + \" WHERE execution_time = \" + exec_time.strftime('%s') + \";\")"
   ]
  },
  {
   "cell_type": "markdown",
   "metadata": {},
   "source": [
    "The function strftime() formats the time. It's alternate is strptime(), which is used to parse a string into the proper time format. \n",
    "\n",
    "In this case, strftime() is formatting the time into what's called Unix time, or Epoch time. It's the number of seconds since 1 January 1970 00:00:00 UTC. "
   ]
  }
 ],
 "metadata": {
  "kernelspec": {
   "display_name": "Python 3",
   "language": "python",
   "name": "python3"
  },
  "language_info": {
   "codemirror_mode": {
    "name": "ipython",
    "version": 3
   },
   "file_extension": ".py",
   "mimetype": "text/x-python",
   "name": "python",
   "nbconvert_exporter": "python",
   "pygments_lexer": "ipython3",
   "version": "3.4.3"
  }
 },
 "nbformat": 4,
 "nbformat_minor": 0
}
