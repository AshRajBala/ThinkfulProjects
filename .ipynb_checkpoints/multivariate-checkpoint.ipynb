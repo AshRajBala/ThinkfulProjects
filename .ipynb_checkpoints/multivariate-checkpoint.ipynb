{
 "cells": [
  {
   "cell_type": "code",
   "execution_count": 3,
   "metadata": {
    "collapsed": false
   },
   "outputs": [
    {
     "data": {
      "text/html": [
       "<table class=\"simpletable\">\n",
       "<caption>OLS Regression Results</caption>\n",
       "<tr>\n",
       "  <th>Dep. Variable:</th>        <td>int_rate</td>     <th>  R-squared:         </th>  <td>   0.004</td> \n",
       "</tr>\n",
       "<tr>\n",
       "  <th>Model:</th>                   <td>OLS</td>       <th>  Adj. R-squared:    </th>  <td>   0.004</td> \n",
       "</tr>\n",
       "<tr>\n",
       "  <th>Method:</th>             <td>Least Squares</td>  <th>  F-statistic:       </th>  <td>   365.2</td> \n",
       "</tr>\n",
       "<tr>\n",
       "  <th>Date:</th>             <td>Wed, 23 Sep 2015</td> <th>  Prob (F-statistic):</th>  <td>5.25e-159</td>\n",
       "</tr>\n",
       "<tr>\n",
       "  <th>Time:</th>                 <td>00:25:13</td>     <th>  Log-Likelihood:    </th> <td>3.0845e+05</td>\n",
       "</tr>\n",
       "<tr>\n",
       "  <th>No. Observations:</th>      <td>180102</td>      <th>  AIC:               </th> <td>-6.169e+05</td>\n",
       "</tr>\n",
       "<tr>\n",
       "  <th>Df Residuals:</th>          <td>180099</td>      <th>  BIC:               </th> <td>-6.169e+05</td>\n",
       "</tr>\n",
       "<tr>\n",
       "  <th>Df Model:</th>              <td>     2</td>      <th>                     </th>      <td> </td>    \n",
       "</tr>\n",
       "<tr>\n",
       "  <th>Covariance Type:</th>      <td>nonrobust</td>    <th>                     </th>      <td> </td>    \n",
       "</tr>\n",
       "</table>\n",
       "<table class=\"simpletable\">\n",
       "<tr>\n",
       "                    <td></td>                      <th>coef</th>     <th>std err</th>      <th>t</th>      <th>P>|t|</th> <th>[95.0% Conf. Int.]</th> \n",
       "</tr>\n",
       "<tr>\n",
       "  <th>Intercept</th>                            <td>    0.1254</td> <td>    0.000</td> <td>  851.272</td> <td> 0.000</td> <td>    0.125     0.126</td>\n",
       "</tr>\n",
       "<tr>\n",
       "  <th>C(home_ownership, Treatment)[T.OWN]</th>  <td>    0.0036</td> <td>    0.000</td> <td>   10.355</td> <td> 0.000</td> <td>    0.003     0.004</td>\n",
       "</tr>\n",
       "<tr>\n",
       "  <th>C(home_ownership, Treatment)[T.RENT]</th> <td>    0.0059</td> <td>    0.000</td> <td>   26.876</td> <td> 0.000</td> <td>    0.005     0.006</td>\n",
       "</tr>\n",
       "</table>\n",
       "<table class=\"simpletable\">\n",
       "<tr>\n",
       "  <th>Omnibus:</th>       <td>7780.743</td> <th>  Durbin-Watson:     </th> <td>   1.993</td>\n",
       "</tr>\n",
       "<tr>\n",
       "  <th>Prob(Omnibus):</th>  <td> 0.000</td>  <th>  Jarque-Bera (JB):  </th> <td>8841.716</td>\n",
       "</tr>\n",
       "<tr>\n",
       "  <th>Skew:</th>           <td> 0.543</td>  <th>  Prob(JB):          </th> <td>    0.00</td>\n",
       "</tr>\n",
       "<tr>\n",
       "  <th>Kurtosis:</th>       <td> 2.989</td>  <th>  Cond. No.          </th> <td>    3.94</td>\n",
       "</tr>\n",
       "</table>"
      ],
      "text/plain": [
       "<class 'statsmodels.iolib.summary.Summary'>\n",
       "\"\"\"\n",
       "                            OLS Regression Results                            \n",
       "==============================================================================\n",
       "Dep. Variable:               int_rate   R-squared:                       0.004\n",
       "Model:                            OLS   Adj. R-squared:                  0.004\n",
       "Method:                 Least Squares   F-statistic:                     365.2\n",
       "Date:                Wed, 23 Sep 2015   Prob (F-statistic):          5.25e-159\n",
       "Time:                        00:25:13   Log-Likelihood:             3.0845e+05\n",
       "No. Observations:              180102   AIC:                        -6.169e+05\n",
       "Df Residuals:                  180099   BIC:                        -6.169e+05\n",
       "Df Model:                           2                                         \n",
       "Covariance Type:            nonrobust                                         \n",
       "========================================================================================================\n",
       "                                           coef    std err          t      P>|t|      [95.0% Conf. Int.]\n",
       "--------------------------------------------------------------------------------------------------------\n",
       "Intercept                                0.1254      0.000    851.272      0.000         0.125     0.126\n",
       "C(home_ownership, Treatment)[T.OWN]      0.0036      0.000     10.355      0.000         0.003     0.004\n",
       "C(home_ownership, Treatment)[T.RENT]     0.0059      0.000     26.876      0.000         0.005     0.006\n",
       "==============================================================================\n",
       "Omnibus:                     7780.743   Durbin-Watson:                   1.993\n",
       "Prob(Omnibus):                  0.000   Jarque-Bera (JB):             8841.716\n",
       "Skew:                           0.543   Prob(JB):                         0.00\n",
       "Kurtosis:                       2.989   Cond. No.                         3.94\n",
       "==============================================================================\n",
       "\n",
       "Warnings:\n",
       "[1] Standard Errors assume that the covariance matrix of the errors is correctly specified.\n",
       "\"\"\""
      ]
     },
     "execution_count": 3,
     "metadata": {},
     "output_type": "execute_result"
    }
   ],
   "source": [
    "import pandas as pd\n",
    "import statsmodels.formula.api as smf\n",
    "import matplotlib.pyplot as plt\n",
    "import numpy as np\n",
    "\n",
    "df = pd.read_csv('loanStats3d.csv')\n",
    "\n",
    "# copy data and separate predictors and response\n",
    "X = df.copy()\n",
    "y = X.pop('int_rate')\n",
    "\n",
    "df.head()\n",
    "\n",
    "# compute percentage of chronic heart disease for famhist\n",
    "y.groupby(X.home_ownership).mean()\n",
    "\n",
    "\n",
    "#from patsy.contrasts import Treatment\n",
    "#levels = [1,2,3]\n",
    "#contrast = Treatment(reference=0).code_without_intercept(levels)\n",
    "#contrast.matrix\n",
    "\n",
    "\n",
    "# fit OLS on categorical variables children and occupation\n",
    "est = smf.ols(formula='int_rate ~ C(home_ownership,Treatment)', data=df).fit()\n",
    "est.summary()"
   ]
  },
  {
   "cell_type": "code",
   "execution_count": 6,
   "metadata": {
    "collapsed": true
   },
   "outputs": [],
   "source": [
    "%matplotlib inline"
   ]
  },
  {
   "cell_type": "code",
   "execution_count": 7,
   "metadata": {
    "collapsed": false
   },
   "outputs": [
    {
     "data": {
      "text/plain": [
       "<matplotlib.text.Text at 0x1056f9160>"
      ]
     },
     "execution_count": 7,
     "metadata": {},
     "output_type": "execute_result"
    },
    {
     "data": {
      "image/png": "[encoded data removed]",
      "text/plain": [
       "<matplotlib.figure.Figure at 0x10a39b6d8>"
      ]
     },
     "metadata": {},
     "output_type": "display_data"
    }
   ],
   "source": [
    "plt.scatter(df.annual_inc, df.int_rate, alpha=0.05)\n",
    "plt.xlabel('Annual Income')\n",
    "plt.ylabel('Interest Rate')"
   ]
  },
  {
   "cell_type": "code",
   "execution_count": 8,
   "metadata": {
    "collapsed": false,
    "scrolled": false
   },
   "outputs": [
    {
     "data": {
      "text/html": [
       "<table class=\"simpletable\">\n",
       "<caption>OLS Regression Results</caption>\n",
       "<tr>\n",
       "  <th>Dep. Variable:</th>        <td>int_rate</td>     <th>  R-squared:         </th>  <td>   0.014</td> \n",
       "</tr>\n",
       "<tr>\n",
       "  <th>Model:</th>                   <td>OLS</td>       <th>  Adj. R-squared:    </th>  <td>   0.014</td> \n",
       "</tr>\n",
       "<tr>\n",
       "  <th>Method:</th>             <td>Least Squares</td>  <th>  F-statistic:       </th>  <td>   515.1</td> \n",
       "</tr>\n",
       "<tr>\n",
       "  <th>Date:</th>             <td>Wed, 23 Sep 2015</td> <th>  Prob (F-statistic):</th>   <td>  0.00</td>  \n",
       "</tr>\n",
       "<tr>\n",
       "  <th>Time:</th>                 <td>00:32:31</td>     <th>  Log-Likelihood:    </th> <td>3.0936e+05</td>\n",
       "</tr>\n",
       "<tr>\n",
       "  <th>No. Observations:</th>      <td>180102</td>      <th>  AIC:               </th> <td>-6.187e+05</td>\n",
       "</tr>\n",
       "<tr>\n",
       "  <th>Df Residuals:</th>          <td>180096</td>      <th>  BIC:               </th> <td>-6.187e+05</td>\n",
       "</tr>\n",
       "<tr>\n",
       "  <th>Df Model:</th>              <td>     5</td>      <th>                     </th>      <td> </td>    \n",
       "</tr>\n",
       "<tr>\n",
       "  <th>Covariance Type:</th>      <td>nonrobust</td>    <th>                     </th>      <td> </td>    \n",
       "</tr>\n",
       "</table>\n",
       "<table class=\"simpletable\">\n",
       "<tr>\n",
       "                  <td></td>                     <th>coef</th>     <th>std err</th>      <th>t</th>      <th>P>|t|</th> <th>[95.0% Conf. Int.]</th> \n",
       "</tr>\n",
       "<tr>\n",
       "  <th>Intercept</th>                         <td>    0.1307</td> <td>    0.000</td> <td>  548.217</td> <td> 0.000</td> <td>    0.130     0.131</td>\n",
       "</tr>\n",
       "<tr>\n",
       "  <th>home_ownership[T.OWN]</th>             <td>    0.0051</td> <td>    0.001</td> <td>    9.130</td> <td> 0.000</td> <td>    0.004     0.006</td>\n",
       "</tr>\n",
       "<tr>\n",
       "  <th>home_ownership[T.RENT]</th>            <td>    0.0064</td> <td>    0.000</td> <td>   18.005</td> <td> 0.000</td> <td>    0.006     0.007</td>\n",
       "</tr>\n",
       "<tr>\n",
       "  <th>annual_inc</th>                        <td>-6.129e-08</td> <td> 2.19e-09</td> <td>  -27.929</td> <td> 0.000</td> <td>-6.56e-08  -5.7e-08</td>\n",
       "</tr>\n",
       "<tr>\n",
       "  <th>home_ownership[T.OWN]:annual_inc</th>  <td>-3.403e-08</td> <td> 5.95e-09</td> <td>   -5.714</td> <td> 0.000</td> <td>-4.57e-08 -2.24e-08</td>\n",
       "</tr>\n",
       "<tr>\n",
       "  <th>home_ownership[T.RENT]:annual_inc</th> <td>-2.756e-08</td> <td>  3.9e-09</td> <td>   -7.073</td> <td> 0.000</td> <td>-3.52e-08 -1.99e-08</td>\n",
       "</tr>\n",
       "</table>\n",
       "<table class=\"simpletable\">\n",
       "<tr>\n",
       "  <th>Omnibus:</th>       <td>9105.820</td> <th>  Durbin-Watson:     </th> <td>   1.995</td> \n",
       "</tr>\n",
       "<tr>\n",
       "  <th>Prob(Omnibus):</th>  <td> 0.000</td>  <th>  Jarque-Bera (JB):  </th> <td>10545.601</td>\n",
       "</tr>\n",
       "<tr>\n",
       "  <th>Skew:</th>           <td> 0.580</td>  <th>  Prob(JB):          </th> <td>    0.00</td> \n",
       "</tr>\n",
       "<tr>\n",
       "  <th>Kurtosis:</th>       <td> 3.240</td>  <th>  Cond. No.          </th> <td>5.83e+05</td> \n",
       "</tr>\n",
       "</table>"
      ],
      "text/plain": [
       "<class 'statsmodels.iolib.summary.Summary'>\n",
       "\"\"\"\n",
       "                            OLS Regression Results                            \n",
       "==============================================================================\n",
       "Dep. Variable:               int_rate   R-squared:                       0.014\n",
       "Model:                            OLS   Adj. R-squared:                  0.014\n",
       "Method:                 Least Squares   F-statistic:                     515.1\n",
       "Date:                Wed, 23 Sep 2015   Prob (F-statistic):               0.00\n",
       "Time:                        00:32:31   Log-Likelihood:             3.0936e+05\n",
       "No. Observations:              180102   AIC:                        -6.187e+05\n",
       "Df Residuals:                  180096   BIC:                        -6.187e+05\n",
       "Df Model:                           5                                         \n",
       "Covariance Type:            nonrobust                                         \n",
       "=====================================================================================================\n",
       "                                        coef    std err          t      P>|t|      [95.0% Conf. Int.]\n",
       "-----------------------------------------------------------------------------------------------------\n",
       "Intercept                             0.1307      0.000    548.217      0.000         0.130     0.131\n",
       "home_ownership[T.OWN]                 0.0051      0.001      9.130      0.000         0.004     0.006\n",
       "home_ownership[T.RENT]                0.0064      0.000     18.005      0.000         0.006     0.007\n",
       "annual_inc                        -6.129e-08   2.19e-09    -27.929      0.000     -6.56e-08  -5.7e-08\n",
       "home_ownership[T.OWN]:annual_inc  -3.403e-08   5.95e-09     -5.714      0.000     -4.57e-08 -2.24e-08\n",
       "home_ownership[T.RENT]:annual_inc -2.756e-08    3.9e-09     -7.073      0.000     -3.52e-08 -1.99e-08\n",
       "==============================================================================\n",
       "Omnibus:                     9105.820   Durbin-Watson:                   1.995\n",
       "Prob(Omnibus):                  0.000   Jarque-Bera (JB):            10545.601\n",
       "Skew:                           0.580   Prob(JB):                         0.00\n",
       "Kurtosis:                       3.240   Cond. No.                     5.83e+05\n",
       "==============================================================================\n",
       "\n",
       "Warnings:\n",
       "[1] Standard Errors assume that the covariance matrix of the errors is correctly specified.\n",
       "[2] The condition number is large, 5.83e+05. This might indicate that there are\n",
       "strong multicollinearity or other numerical problems.\n",
       "\"\"\""
      ]
     },
     "execution_count": 8,
     "metadata": {},
     "output_type": "execute_result"
    }
   ],
   "source": [
    "est = smf.ols(formula='int_rate ~ home_ownership * annual_inc', data=df).fit()\n",
    "est.summary()"
   ]
  },
  {
   "cell_type": "code",
   "execution_count": 9,
   "metadata": {
    "collapsed": true
   },
   "outputs": [],
   "source": [
    "Inc_linspace = np.linspace(df.annual_inc.min(), df.annual_inc.max(), 10)"
   ]
  },
  {
   "cell_type": "code",
   "execution_count": 10,
   "metadata": {
    "collapsed": false
   },
   "outputs": [
    {
     "data": {
      "text/plain": [
       "[<matplotlib.lines.Line2D at 0x10a4043c8>]"
      ]
     },
     "execution_count": 10,
     "metadata": {},
     "output_type": "execute_result"
    },
    {
     "data": {
      "image/png": "[encoded data removed]",
      "text/plain": [
       "<matplotlib.figure.Figure at 0x10a39b4e0>"
      ]
     },
     "metadata": {},
     "output_type": "display_data"
    }
   ],
   "source": [
    "plt.plot(Inc_linspace, est.params[0] + est.params[1] * 1 + est.params[2] * Inc_linspace + \n",
    "         est.params[3] * 1 * Inc_linspace, 'r')"
   ]
  },
  {
   "cell_type": "code",
   "execution_count": 11,
   "metadata": {
    "collapsed": false
   },
   "outputs": [
    {
     "data": {
      "text/plain": [
       "[<matplotlib.lines.Line2D at 0x10acb1a58>]"
      ]
     },
     "execution_count": 11,
     "metadata": {},
     "output_type": "execute_result"
    },
    {
     "data": {
      "image/png": "[encoded data removed]",
      "text/plain": [
       "<matplotlib.figure.Figure at 0x10a411828>"
      ]
     },
     "metadata": {},
     "output_type": "display_data"
    }
   ],
   "source": [
    "plt.plot(Inc_linspace, est.params[0] + est.params[1] * 2 + est.params[2] * Inc_linspace + \n",
    "         est.params[3] * 2 * Inc_linspace, 'g')"
   ]
  },
  {
   "cell_type": "code",
   "execution_count": 12,
   "metadata": {
    "collapsed": false
   },
   "outputs": [
    {
     "data": {
      "text/plain": [
       "[<matplotlib.lines.Line2D at 0x10ad72fd0>]"
      ]
     },
     "execution_count": 12,
     "metadata": {},
     "output_type": "execute_result"
    },
    {
     "data": {
      "image/png": "[encoded data removed]",
      "text/plain": [
       "<matplotlib.figure.Figure at 0x10acbdc18>"
      ]
     },
     "metadata": {},
     "output_type": "display_data"
    }
   ],
   "source": [
    "plt.plot(Inc_linspace, est.params[0] + est.params[1] * 3 + est.params[2] * Inc_linspace + \n",
    "         est.params[3] * 3 * Inc_linspace, 'b')"
   ]
  }
 ],
 "metadata": {
  "kernelspec": {
   "display_name": "Python 3",
   "language": "python",
   "name": "python3"
  }
 },
 "nbformat": 4,
 "nbformat_minor": 0
}
