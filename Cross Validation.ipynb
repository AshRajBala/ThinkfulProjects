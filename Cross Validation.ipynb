{
 "cells": [
  {
   "cell_type": "code",
   "execution_count": null,
   "metadata": {
    "collapsed": true
   },
   "outputs": [],
   "source": [
    "import pandas as pd\n",
    "from sklearn.cross_validation import train_test_split\n",
    "from sklearn import datasets, svm\n",
    "import numpy as np\n",
    "import matplotlib.pyplot as plt \n",
    "from sklearn.metrics import accuracy_score\n",
    "\n",
    "print 'Geting and cleaning the data...'\n",
    "df = pd.read_csv(\n",
    "    filepath_or_buffer = 'https://archive.ics.uci.edu/ml/machine-learning-databases/iris/iris.data',\n",
    "    header=None,\n",
    "    sep=',')\n",
    "\n",
    "df.columns = ['sepal_len', 'sepal_wid', 'petal_len', 'petal_wid', 'class']\n",
    "df.dropna(inplace=True)\n",
    "\n",
    "x_vars = []\n",
    "for i, row in df.iterrows():\n",
    "    x_vars.append([row['sepal_len'], row['sepal_wid'], row['petal_len'], row['petal_wid']])\n",
    "\n",
    "df['class'] = pd.Categorical(df['class']).codes\n",
    "y_var = list(df['class'])\n",
    "\n",
    "print 'Splitting data into train and test set...'\n",
    "x_train, x_test, y_train, y_test = train_test_split(x_vars, y_var, test_size=0.4, random_state=42)\n",
    "\n",
    "print 'Fitting SVM classifier...'\n",
    "svc = svm.SVC(kernel='linear')\n",
    "svc.fit(x_train, y_train)\n",
    "\n",
    "print 'Predicting values for test set...'\n",
    "results = svc.predict(x_test)\n",
    "\n",
    "print 'For each prediction, did we predict correctly?'\n",
    "for i in range(len(results)):\n",
    "\tif results[i] == y_test[i]:\n",
    "\t\tprint 'Prediction correct'\n",
    "\telse:\n",
    "\t\tprint 'Prediction INcorrect'\n",
    "\n",
    "print 'Getting accuracy score...'\n",
    "print accuracy_score(y_test, results)\n",
    "\n",
    "# TODO: Come back to perform kfold cross validation"
   ]
  }
 ],
 "metadata": {
  "kernelspec": {
   "display_name": "Python 3",
   "language": "python",
   "name": "python3"
  },
  "language_info": {
   "codemirror_mode": {
    "name": "ipython",
    "version": 3
   },
   "file_extension": ".py",
   "mimetype": "text/x-python",
   "name": "python",
   "nbconvert_exporter": "python",
   "pygments_lexer": "ipython3",
   "version": "3.4.3"
  }
 },
 "nbformat": 4,
 "nbformat_minor": 0
}
