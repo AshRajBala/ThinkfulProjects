{
 "cells": [
  {
   "cell_type": "code",
   "execution_count": null,
   "metadata": {
    "collapsed": true
   },
   "outputs": [],
   "source": [
    "import pandas as pd\n",
    "import numpy as np \n",
    "from sklearn.ensemble import RandomForestClassifier\n",
    "import pylab as pl\n",
    "import sklearn.metrics as skm\n",
    "\n",
    "print 'Preparing the HAR data from UCI...'\n",
    "\n",
    "# subject id for each observation\n",
    "subjects = pd.read_csv(\"/Users/frankCorrigan/ThinkfulData/UCI HAR Dataset/train/subject_train.txt\", header=None, delim_whitespace=True, index_col=False)\n",
    "subjects.columns = ['Subject']\n",
    "subjects = pd.DataFrame(subjects)\n",
    "# feature names for each column\n",
    "feature_names = pd.read_csv(\"/Users/frankCorrigan/ThinkfulData/UCI HAR Dataset/features.txt\", header=None, delim_whitespace=True, index_col=False)\n",
    "# feature data\n",
    "x_vars = pd.read_csv(\"/Users/frankCorrigan/ThinkfulData/UCI HAR Dataset/train/X_train.txt\", header=None, delim_whitespace=True, index_col=False)\n",
    "x_vars.columns = feature_names\n",
    "# independent variable data. User activity.\n",
    "y_var = pd.read_csv(\"/Users/frankCorrigan/ThinkfulData/UCI HAR Dataset/train/y_train.txt\", header=None, delim_whitespace=True, index_col=False)\n",
    "y_var = pd.DataFrame(y_var)\n",
    "y_var.columns = ['Activity']\n",
    "\n",
    "############# ORIGINAL RANDOM FOREST ####################\n",
    "\n",
    "print 'Building original random forest model (no PCA analysis)...'\n",
    "\n",
    "data = pd.merge(y_var, x_vars, left_index=True, right_index=True)\n",
    "data = pd.merge(data, subjects, left_index=True, right_index=True)\n",
    "data['Activity'] = pd.Categorical(data['Activity']).labels\n",
    "\n",
    "fortrain = data.query('Subject >= 27')\n",
    "fortest = data.query('Subject <= 6')\n",
    "forval = data.query(\"(Subject >= 21) & (Subject < 27)\")\n",
    "\n",
    "train_target = fortrain['Activity']\n",
    "train_data = fortrain.ix[:,1:-2]\n",
    "rfc = RandomForestClassifier(n_estimators=500, oob_score=True)\n",
    "rfc.fit(train_data, train_target)\n",
    "\n",
    "test_target = fortest['Activity']\n",
    "test_data = fortest.ix[:,1:-2]\n",
    "test_pred = rfc.predict(test_data)\n",
    "\n",
    "print 'Model oob: ' + str(rfc.oob_score_)\n",
    "print(\"mean accuracy score for test set = %f\" %(rfc.score(test_data, test_target)))\n",
    "\n",
    "test_cm = skm.confusion_matrix(test_target, test_pred)\n",
    "pl.matshow(test_cm)\n",
    "pl.title('Confusion matrix for test data')\n",
    "pl.colorbar()\n",
    "pl.show()\n",
    "\n",
    "############# PCA ####################\n",
    "\n",
    "print 'Conducting PCA on x variables...'\n",
    "\n",
    "alt = x_vars\n",
    "\n",
    "std = StandardScaler().fit_transform(alt)\n",
    "\n",
    "cov_mat = np.cov(alt.T)\n",
    "eig_vals, eig_vecs = np.linalg.eig(cov_mat)\n",
    "eig_pairs = [(np.abs(eig_vals[i]), eig_vecs[:,i]) for i in range(len(eig_vals))]\n",
    "\n",
    "tot = sum(eig_vals)\n",
    "var_exp = [(i / tot)*100 for i in sorted(eig_vals, reverse=True)]\n",
    "cum_var_exp = np.cumsum(var_exp)\n",
    "cum_var_exp[178]\n",
    "\n",
    "sklearn_pca = sklearnPCA(n_components=75)\n",
    "Y_sklearn = sklearn_pca.fit_transform(alt)\n",
    "\n",
    "############# NEW RANDOM FOREST AFTER PCA ####################\n",
    "\n",
    "print 'Building new random forest model with reduced dataset...'\n",
    "\n",
    "df = pd.DataFrame(Y_sklearn)\n",
    "df = pd.merge(y_var, df, left_index=True, right_index=True)\n",
    "df = pd.merge(df, subjects, left_index=True, right_index=True)\n",
    "\n",
    "fortrain = df.query('Subject >= 27')\n",
    "fortest = df.query('Subject <= 6')\n",
    "forval = df.query(\"(Subject >= 21) & (Subject < 27)\")\n",
    "\n",
    "train_target = fortrain['Activity']\n",
    "train_data = fortrain.ix[:,1:-2]\n",
    "rfc = RandomForestClassifier(n_estimators=500, oob_score=True)\n",
    "rfc.fit(train_data, train_target)\n",
    "\n",
    "test_target = fortest['Activity']\n",
    "test_data = fortest.ix[:,1:-2]\n",
    "test_pred = rfc.predict(test_data)\n",
    "\n",
    "print 'Model oob: ' + str(rfc.oob_score_)\n",
    "print(\"mean accuracy score for test set = %f\" %(rfc.score(test_data, test_target)))\n",
    "\n",
    "# visualize confusion matrix\n",
    "test_cm = skm.confusion_matrix(test_target, test_pred)\n",
    "pl.matshow(test_cm)\n",
    "pl.title('Confusion matrix for test data')\n",
    "pl.colorbar()\n",
    "pl.show()"
   ]
  },
  {
   "cell_type": "code",
   "execution_count": 1,
   "metadata": {
    "collapsed": false
   },
   "outputs": [
    {
     "name": "stdout",
     "output_type": "stream",
     "text": [
      "Preparing the HAR data from UCI...\n"
     ]
    }
   ],
   "source": [
    "import pandas as pd\n",
    "import numpy as np \n",
    "from sklearn.ensemble import RandomForestClassifier\n",
    "import pylab as pl\n",
    "import sklearn.metrics as skm\n",
    "\n",
    "print('Preparing the HAR data from UCI...')\n",
    "\n",
    "# subject id for each observation\n",
    "subjects = pd.read_csv(\"/Users/AshRajBala/Repositories/ThinkfulProjects/UCI HAR Dataset/train/subject_train.txt\", header=None, delim_whitespace=True, index_col=False)\n",
    "subjects.columns = ['Subject']\n",
    "subjects = pd.DataFrame(subjects)\n",
    "# feature names for each column\n",
    "feature_names = pd.read_csv(\"/Users/AshRajBala/Repositories/ThinkfulProjects/UCI HAR Dataset/features.txt\", header=None, delim_whitespace=True, index_col=False)\n",
    "# feature data\n",
    "x_vars = pd.read_csv(\"/Users/AshRajBala/Repositories/ThinkfulProjects/UCI HAR Dataset/train/X_train.txt\", header=None, delim_whitespace=True, index_col=False)\n",
    "x_vars.columns = feature_names\n",
    "# independent variable data. User activity.\n",
    "y_var = pd.read_csv(\"/Users/AshRajBala/Repositories/ThinkfulProjects/UCI HAR Dataset/train/y_train.txt\", header=None, delim_whitespace=True, index_col=False)\n",
    "y_var = pd.DataFrame(y_var)\n",
    "y_var.columns = ['Activity']"
   ]
  },
  {
   "cell_type": "code",
   "execution_count": 2,
   "metadata": {
    "collapsed": false
   },
   "outputs": [
    {
     "name": "stdout",
     "output_type": "stream",
     "text": [
      "Building original random forest model (no PCA analysis)...\n",
      "Model oob: 0.992592592593\n",
      "mean accuracy score for test set = 0.831179\n"
     ]
    },
    {
     "name": "stderr",
     "output_type": "stream",
     "text": [
      "//anaconda/lib/python3.4/site-packages/pandas/core/categorical.py:414: FutureWarning: 'labels' is deprecated. Use 'codes' instead\n",
      "  warnings.warn(\"'labels' is deprecated. Use 'codes' instead\", FutureWarning)\n"
     ]
    },
    {
     "data": {
      "image/png": "[encoded data removed]",
      "text/plain": [
       "<matplotlib.figure.Figure at 0x1028b4a90>"
      ]
     },
     "metadata": {},
     "output_type": "display_data"
    }
   ],
   "source": [
    "############# ORIGINAL RANDOM FOREST ####################\n",
    "%matplotlib inline\n",
    "\n",
    "print('Building original random forest model (no PCA analysis)...')\n",
    "\n",
    "data = pd.merge(y_var, x_vars, left_index=True, right_index=True)\n",
    "data = pd.merge(data, subjects, left_index=True, right_index=True)\n",
    "data['Activity'] = pd.Categorical(data['Activity']).labels\n",
    "\n",
    "fortrain = data.query('Subject >= 27')\n",
    "fortest = data.query('Subject <= 6')\n",
    "forval = data.query(\"(Subject >= 21) & (Subject < 27)\")\n",
    "\n",
    "train_target = fortrain['Activity']\n",
    "train_data = fortrain.ix[:,1:-2]\n",
    "rfc = RandomForestClassifier(n_estimators=500, oob_score=True)\n",
    "rfc.fit(train_data, train_target)\n",
    "\n",
    "test_target = fortest['Activity']\n",
    "test_data = fortest.ix[:,1:-2]\n",
    "test_pred = rfc.predict(test_data)\n",
    "\n",
    "print('Model oob: ' + str(rfc.oob_score_))\n",
    "print(\"mean accuracy score for test set = %f\" %(rfc.score(test_data, test_target)))\n",
    "\n",
    "test_cm = skm.confusion_matrix(test_target, test_pred)\n",
    "pl.matshow(test_cm)\n",
    "pl.title('Confusion matrix for test data')\n",
    "pl.colorbar()\n",
    "pl.show()"
   ]
  },
  {
   "cell_type": "code",
   "execution_count": 5,
   "metadata": {
    "collapsed": false
   },
   "outputs": [
    {
     "name": "stdout",
     "output_type": "stream",
     "text": [
      "Conducting PCA on x variables...\n"
     ]
    }
   ],
   "source": [
    "############# PCA ####################\n",
    "from sklearn.decomposition import PCA\n",
    "\n",
    "print('Conducting PCA on x variables...')\n",
    "\n",
    "pca = PCA(n_components=2)\n",
    "X_r = pca.fit(x_vars).transform(x_vars)"
   ]
  },
  {
   "cell_type": "code",
   "execution_count": 7,
   "metadata": {
    "collapsed": false
   },
   "outputs": [
    {
     "name": "stdout",
     "output_type": "stream",
     "text": [
      "explained variance ratio (first two components): [ 0.6255444   0.04913023]\n"
     ]
    }
   ],
   "source": [
    "# Percentage of variance explained for each components\n",
    "print('explained variance ratio (first two components): %s'\n",
    "      % str(pca.explained_variance_ratio_))\n"
   ]
  },
  {
   "cell_type": "code",
   "execution_count": 11,
   "metadata": {
    "collapsed": false
   },
   "outputs": [
    {
     "name": "stdout",
     "output_type": "stream",
     "text": [
      "Building new random forest model with reduced dataset...\n"
     ]
    },
    {
     "ename": "AttributeError",
     "evalue": "'numpy.ndarray' object has no attribute '_data'",
     "output_type": "error",
     "traceback": [
      "\u001b[0;31m---------------------------------------------------------------------------\u001b[0m",
      "\u001b[0;31mAttributeError\u001b[0m                            Traceback (most recent call last)",
      "\u001b[0;32m<ipython-input-11-d0bc7deb9e8e>\u001b[0m in \u001b[0;36m<module>\u001b[0;34m()\u001b[0m\n\u001b[1;32m      3\u001b[0m \u001b[0mprint\u001b[0m\u001b[0;34m(\u001b[0m\u001b[0;34m'Building new random forest model with reduced dataset...'\u001b[0m\u001b[0;34m)\u001b[0m\u001b[0;34m\u001b[0m\u001b[0m\n\u001b[1;32m      4\u001b[0m \u001b[0;34m\u001b[0m\u001b[0m\n\u001b[0;32m----> 5\u001b[0;31m \u001b[0mdata\u001b[0m \u001b[0;34m=\u001b[0m \u001b[0mpd\u001b[0m\u001b[0;34m.\u001b[0m\u001b[0mmerge\u001b[0m\u001b[0;34m(\u001b[0m\u001b[0my_var\u001b[0m\u001b[0;34m,\u001b[0m \u001b[0mX_r\u001b[0m\u001b[0;34m,\u001b[0m \u001b[0mleft_index\u001b[0m\u001b[0;34m=\u001b[0m\u001b[0;32mTrue\u001b[0m\u001b[0;34m,\u001b[0m \u001b[0mright_index\u001b[0m\u001b[0;34m=\u001b[0m\u001b[0;32mTrue\u001b[0m\u001b[0;34m)\u001b[0m\u001b[0;34m\u001b[0m\u001b[0m\n\u001b[0m\u001b[1;32m      6\u001b[0m \u001b[0mdata\u001b[0m \u001b[0;34m=\u001b[0m \u001b[0mpd\u001b[0m\u001b[0;34m.\u001b[0m\u001b[0mmerge\u001b[0m\u001b[0;34m(\u001b[0m\u001b[0mdata\u001b[0m\u001b[0;34m,\u001b[0m \u001b[0msubjects\u001b[0m\u001b[0;34m,\u001b[0m \u001b[0mleft_index\u001b[0m\u001b[0;34m=\u001b[0m\u001b[0;32mTrue\u001b[0m\u001b[0;34m,\u001b[0m \u001b[0mright_index\u001b[0m\u001b[0;34m=\u001b[0m\u001b[0;32mTrue\u001b[0m\u001b[0;34m)\u001b[0m\u001b[0;34m\u001b[0m\u001b[0m\n\u001b[1;32m      7\u001b[0m \u001b[0mdata\u001b[0m\u001b[0;34m[\u001b[0m\u001b[0;34m'Activity'\u001b[0m\u001b[0;34m]\u001b[0m \u001b[0;34m=\u001b[0m \u001b[0mpd\u001b[0m\u001b[0;34m.\u001b[0m\u001b[0mCategorical\u001b[0m\u001b[0;34m(\u001b[0m\u001b[0mdata\u001b[0m\u001b[0;34m[\u001b[0m\u001b[0;34m'Activity'\u001b[0m\u001b[0;34m]\u001b[0m\u001b[0;34m)\u001b[0m\u001b[0;34m.\u001b[0m\u001b[0mcodes\u001b[0m\u001b[0;34m\u001b[0m\u001b[0m\n",
      "\u001b[0;32m//anaconda/lib/python3.4/site-packages/pandas/tools/merge.py\u001b[0m in \u001b[0;36mmerge\u001b[0;34m(left, right, how, on, left_on, right_on, left_index, right_index, sort, suffixes, copy)\u001b[0m\n\u001b[1;32m     37\u001b[0m                          \u001b[0mright_index\u001b[0m\u001b[0;34m=\u001b[0m\u001b[0mright_index\u001b[0m\u001b[0;34m,\u001b[0m \u001b[0msort\u001b[0m\u001b[0;34m=\u001b[0m\u001b[0msort\u001b[0m\u001b[0;34m,\u001b[0m \u001b[0msuffixes\u001b[0m\u001b[0;34m=\u001b[0m\u001b[0msuffixes\u001b[0m\u001b[0;34m,\u001b[0m\u001b[0;34m\u001b[0m\u001b[0m\n\u001b[1;32m     38\u001b[0m                          copy=copy)\n\u001b[0;32m---> 39\u001b[0;31m     \u001b[0;32mreturn\u001b[0m \u001b[0mop\u001b[0m\u001b[0;34m.\u001b[0m\u001b[0mget_result\u001b[0m\u001b[0;34m(\u001b[0m\u001b[0;34m)\u001b[0m\u001b[0;34m\u001b[0m\u001b[0m\n\u001b[0m\u001b[1;32m     40\u001b[0m \u001b[0;32mif\u001b[0m \u001b[0m__debug__\u001b[0m\u001b[0;34m:\u001b[0m\u001b[0;34m\u001b[0m\u001b[0m\n\u001b[1;32m     41\u001b[0m     \u001b[0mmerge\u001b[0m\u001b[0;34m.\u001b[0m\u001b[0m__doc__\u001b[0m \u001b[0;34m=\u001b[0m \u001b[0m_merge_doc\u001b[0m \u001b[0;34m%\u001b[0m \u001b[0;34m'\\nleft : DataFrame'\u001b[0m\u001b[0;34m\u001b[0m\u001b[0m\n",
      "\u001b[0;32m//anaconda/lib/python3.4/site-packages/pandas/tools/merge.py\u001b[0m in \u001b[0;36mget_result\u001b[0;34m(self)\u001b[0m\n\u001b[1;32m    185\u001b[0m \u001b[0;34m\u001b[0m\u001b[0m\n\u001b[1;32m    186\u001b[0m     \u001b[0;32mdef\u001b[0m \u001b[0mget_result\u001b[0m\u001b[0;34m(\u001b[0m\u001b[0mself\u001b[0m\u001b[0;34m)\u001b[0m\u001b[0;34m:\u001b[0m\u001b[0;34m\u001b[0m\u001b[0m\n\u001b[0;32m--> 187\u001b[0;31m         \u001b[0mjoin_index\u001b[0m\u001b[0;34m,\u001b[0m \u001b[0mleft_indexer\u001b[0m\u001b[0;34m,\u001b[0m \u001b[0mright_indexer\u001b[0m \u001b[0;34m=\u001b[0m \u001b[0mself\u001b[0m\u001b[0;34m.\u001b[0m\u001b[0m_get_join_info\u001b[0m\u001b[0;34m(\u001b[0m\u001b[0;34m)\u001b[0m\u001b[0;34m\u001b[0m\u001b[0m\n\u001b[0m\u001b[1;32m    188\u001b[0m \u001b[0;34m\u001b[0m\u001b[0m\n\u001b[1;32m    189\u001b[0m         \u001b[0mldata\u001b[0m\u001b[0;34m,\u001b[0m \u001b[0mrdata\u001b[0m \u001b[0;34m=\u001b[0m \u001b[0mself\u001b[0m\u001b[0;34m.\u001b[0m\u001b[0mleft\u001b[0m\u001b[0;34m.\u001b[0m\u001b[0m_data\u001b[0m\u001b[0;34m,\u001b[0m \u001b[0mself\u001b[0m\u001b[0;34m.\u001b[0m\u001b[0mright\u001b[0m\u001b[0;34m.\u001b[0m\u001b[0m_data\u001b[0m\u001b[0;34m\u001b[0m\u001b[0m\n",
      "\u001b[0;32m//anaconda/lib/python3.4/site-packages/pandas/tools/merge.py\u001b[0m in \u001b[0;36m_get_join_info\u001b[0;34m(self)\u001b[0m\n\u001b[1;32m    255\u001b[0m     \u001b[0;32mdef\u001b[0m \u001b[0m_get_join_info\u001b[0m\u001b[0;34m(\u001b[0m\u001b[0mself\u001b[0m\u001b[0;34m)\u001b[0m\u001b[0;34m:\u001b[0m\u001b[0;34m\u001b[0m\u001b[0m\n\u001b[1;32m    256\u001b[0m         \u001b[0mleft_ax\u001b[0m \u001b[0;34m=\u001b[0m \u001b[0mself\u001b[0m\u001b[0;34m.\u001b[0m\u001b[0mleft\u001b[0m\u001b[0;34m.\u001b[0m\u001b[0m_data\u001b[0m\u001b[0;34m.\u001b[0m\u001b[0maxes\u001b[0m\u001b[0;34m[\u001b[0m\u001b[0mself\u001b[0m\u001b[0;34m.\u001b[0m\u001b[0maxis\u001b[0m\u001b[0;34m]\u001b[0m\u001b[0;34m\u001b[0m\u001b[0m\n\u001b[0;32m--> 257\u001b[0;31m         \u001b[0mright_ax\u001b[0m \u001b[0;34m=\u001b[0m \u001b[0mself\u001b[0m\u001b[0;34m.\u001b[0m\u001b[0mright\u001b[0m\u001b[0;34m.\u001b[0m\u001b[0m_data\u001b[0m\u001b[0;34m.\u001b[0m\u001b[0maxes\u001b[0m\u001b[0;34m[\u001b[0m\u001b[0mself\u001b[0m\u001b[0;34m.\u001b[0m\u001b[0maxis\u001b[0m\u001b[0;34m]\u001b[0m\u001b[0;34m\u001b[0m\u001b[0m\n\u001b[0m\u001b[1;32m    258\u001b[0m         \u001b[0;32mif\u001b[0m \u001b[0mself\u001b[0m\u001b[0;34m.\u001b[0m\u001b[0mleft_index\u001b[0m \u001b[0;32mand\u001b[0m \u001b[0mself\u001b[0m\u001b[0;34m.\u001b[0m\u001b[0mright_index\u001b[0m\u001b[0;34m:\u001b[0m\u001b[0;34m\u001b[0m\u001b[0m\n\u001b[1;32m    259\u001b[0m             \u001b[0mjoin_index\u001b[0m\u001b[0;34m,\u001b[0m \u001b[0mleft_indexer\u001b[0m\u001b[0;34m,\u001b[0m \u001b[0mright_indexer\u001b[0m \u001b[0;34m=\u001b[0m\u001b[0;31m \u001b[0m\u001b[0;31m\\\u001b[0m\u001b[0;34m\u001b[0m\u001b[0m\n",
      "\u001b[0;31mAttributeError\u001b[0m: 'numpy.ndarray' object has no attribute '_data'"
     ]
    }
   ],
   "source": [
    "############# NEW RANDOM FOREST AFTER PCA ####################\n",
    "\n",
    "print('Building new random forest model with reduced dataset...')\n",
    "\n",
    "data = pd.merge(y_var, X_r, left_index=True, right_index=True)\n",
    "data = pd.merge(data, subjects, left_index=True, right_index=True)\n",
    "data['Activity'] = pd.Categorical(data['Activity']).codes\n",
    "\n",
    "fortrain = df.query('Subject >= 27')\n",
    "fortest = df.query('Subject <= 6')\n",
    "forval = df.query(\"(Subject >= 21) & (Subject < 27)\")\n",
    "\n",
    "train_target = fortrain['Activity']\n",
    "train_data = fortrain.ix[:,1:-2]\n",
    "rfc = RandomForestClassifier(n_estimators=500, oob_score=True)\n",
    "rfc.fit(train_data, train_target)\n",
    "\n",
    "test_target = fortest['Activity']\n",
    "test_data = fortest.ix[:,1:-2]\n",
    "test_pred = rfc.predict(test_data)\n",
    "\n",
    "print('Model oob: ' + str(rfc.oob_score_))\n",
    "print(\"mean accuracy score for test set = %f\" %(rfc.score(test_data, test_target)))\n",
    "\n",
    "# visualize confusion matrix\n",
    "test_cm = skm.confusion_matrix(test_target, test_pred)\n",
    "pl.matshow(test_cm)\n",
    "pl.title('Confusion matrix for test data')\n",
    "pl.colorbar()\n",
    "pl.show()"
   ]
  },
  {
   "cell_type": "code",
   "execution_count": null,
   "metadata": {
    "collapsed": true
   },
   "outputs": [],
   "source": []
  }
 ],
 "metadata": {
  "kernelspec": {
   "display_name": "Python 3",
   "language": "python",
   "name": "python3"
  },
  "language_info": {
   "codemirror_mode": {
    "name": "ipython",
    "version": 3
   },
   "file_extension": ".py",
   "mimetype": "text/x-python",
   "name": "python",
   "nbconvert_exporter": "python",
   "pygments_lexer": "ipython3",
   "version": "3.4.3"
  }
 },
 "nbformat": 4,
 "nbformat_minor": 0
}
