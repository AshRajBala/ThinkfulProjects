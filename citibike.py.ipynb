{
 "cells": [
  {
   "cell_type": "code",
   "execution_count": null,
   "metadata": {
    "collapsed": false
   },
   "outputs": [],
   "source": [
    "import time\n",
    "from dateutil.parser import parse\n",
    "import collections\n",
    "import sqlite3 as lite\n",
    "import requests\n",
    "import pandas as pd\n",
    "\n",
    "con = lite.connect('citi_bike.db')\n",
    "cur = con.cursor()\n",
    "\n",
    "# Data needs to be imported from JSON format. Here, we are taking the stationBeanList and passing values associated \n",
    "# with it to pandas to create a DataFrame out of the data instead of the whole JSON.\n",
    "  \n",
    "r = requests.get('http://www.citibikenyc.com/stations/json')\n",
    "\n",
    "from pandas.io.json import json_normalize\n",
    "df = json_normalize(r.json()['stationBeanList'])\n",
    "\n",
    "exec_time = parse(r.json()['executionTime']) \n",
    "    \n",
    "#extract the column from the DataFrame and put them into a list\n",
    "station_ids = df['id'].tolist() \n",
    "\n",
    "#add the '_' to the station name and also add the data type for SQLite\n",
    "station_ids = ['_' + str(x) + ' INT' for x in station_ids]\n",
    "\n",
    "    #create the table\n",
    "    #in this case, we're concatentating the string and joining all the station ids (now with '_' and 'INT' added)\n",
    "    \n",
    "with con:\n",
    "    cur.execute(\"CREATE TABLE available_bikes ( execution_time INT, \" +  \", \".join(station_ids) + \");\")\n",
    "    \n",
    "    cur.execute('INSERT INTO available_bikes (execution_time) VALUES (?)', (exec_time.strftime('%s'),))\n",
    "    con.commit()\n",
    "\n",
    "for i in range(60):   \n",
    "    id_bikes = collections.defaultdict(int)\n",
    "    for station in r.json()['stationBeanList']:\n",
    "        id_bikes[station['id']] = station['availableBikes']\n",
    "    for k, v in id_bikes.items():\n",
    "        cur.execute(\"UPDATE available_bikes SET _\" + str(k) + \" = \" + str(v) + \" WHERE execution_time = \" + exec_time.strftime('%s') + \";\")\n",
    "    con.commit()\n",
    "    time.sleep(60)\n",
    "\n",
    "con.close() #close the database connection when done"
   ]
  },
  {
   "cell_type": "code",
   "execution_count": null,
   "metadata": {
    "collapsed": false
   },
   "outputs": [],
   "source": [
    "df = pd.read_sql_query(\"SELECT * FROM available_bikes ORDER BY execution_time\",con,index_col='execution_time')"
   ]
  },
  {
   "cell_type": "code",
   "execution_count": null,
   "metadata": {
    "collapsed": true
   },
   "outputs": [],
   "source": [
    "hour_change = collections.defaultdict(int)\n",
    "for col in df.columns:\n",
    "    station_vals = df[col].tolist()\n",
    "    station_id = col[1:] #trim the \"_\"\n",
    "    station_change = 0\n",
    "    for k,v in enumerate(station_vals):\n",
    "        if k < len(station_vals) - 1:\n",
    "            station_change += abs(station_vals[k] - station_vals[k+1])\n",
    "    hour_change[int(station_id)] = station_change #convert the station id back to integer"
   ]
  },
  {
   "cell_type": "code",
   "execution_count": null,
   "metadata": {
    "collapsed": true
   },
   "outputs": [],
   "source": [
    "def keywithmaxval(d):\n",
    "    # create a list of the dict's keys and values; \n",
    "    v = list(d.values())\n",
    "    k = list(d.keys())\n",
    "\n",
    "    # return the key with the max value\n",
    "    return k[v.index(max(v))]\n",
    "\n",
    "# assign the max key to max_station\n",
    "max_station = keywithmaxval(hour_change)"
   ]
  },
  {
   "cell_type": "code",
   "execution_count": null,
   "metadata": {
    "collapsed": true
   },
   "outputs": [],
   "source": [
    "#query sqlite for reference information\n",
    "cur.execute(\"SELECT id, stationname, latitude, longitude FROM citibike_reference WHERE id = ?\", (max_station,))\n",
    "data = cur.fetchone()\n",
    "print \"The most active station is station id %s at %s latitude: %s longitude: %s \" % data\n",
    "print \"With \" + str(hour_change[379]) + \" bicycles coming and going in the hour between \" + datetime.datetime.fromtimestamp(int(df.index[0])).strftime('%Y-%m-%dT%H:%M:%S') + \" and \" + datetime.datetime.fromtimestamp(int(df.index[-1])).strftime('%Y-%m-%dT%H:%M:%S')"
   ]
  },
  {
   "cell_type": "code",
   "execution_count": null,
   "metadata": {
    "collapsed": true
   },
   "outputs": [],
   "source": [
    "import matplotlib.pyplot as plt\n",
    "%matplotlib inline\n",
    "plt.bar(hour_change.keys(), hour_change.values())\n"
   ]
  }
 ],
 "metadata": {
  "kernelspec": {
   "display_name": "Python 3",
   "language": "python",
   "name": "python3"
  },
  "language_info": {
   "codemirror_mode": {
    "name": "ipython",
    "version": 3
   },
   "file_extension": ".py",
   "mimetype": "text/x-python",
   "name": "python",
   "nbconvert_exporter": "python",
   "pygments_lexer": "ipython3",
   "version": "3.4.3"
  }
 },
 "nbformat": 4,
 "nbformat_minor": 0
}
