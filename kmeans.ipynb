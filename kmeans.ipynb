{
 "cells": [
  {
   "cell_type": "markdown",
   "metadata": {},
   "source": [
    "Previously, we've looked at data where we did know what belonged to what. Our data was labeled, and we could learn off of those labels. For those data we could use supervised learning techniques. Often, data won't be neatly and nicely labeled.\n",
    "\n",
    "There can be many attributes or features, but no label to indicate which rows belong to which label or group. Without the labels, we'd be hard-pressed to build a classification model. We wouldn't even know what values we're classifying things as!\n",
    "\n",
    "One approach to this situation is to try to find some \"natural\" groupings in the data. Clustering is one such approach that looks at each of the different attributes in the data and tries to group the data based on rows that have similar values for the attributes."
   ]
  },
  {
   "cell_type": "code",
   "execution_count": 15,
   "metadata": {
    "collapsed": false
   },
   "outputs": [],
   "source": [
    "# Source: https://drive.google.com/file/d/0B7Vwt0JZZE6qSzIyckNiU0x3U3c/view\n",
    "# Local source: /Users/AshRajBala/Repositories/ThinkfulProjects/undata.csv\n",
    "\n",
    "import pandas as pd\n",
    "\n",
    "# Load un data\n",
    "un = pd.read_csv(\"/Users/AshRajBala/Repositories/ThinkfulProjects/un.csv\")"
   ]
  },
  {
   "cell_type": "code",
   "execution_count": 21,
   "metadata": {
    "collapsed": false
   },
   "outputs": [
    {
     "data": {
      "text/plain": [
       "207"
      ]
     },
     "execution_count": 21,
     "metadata": {},
     "output_type": "execute_result"
    }
   ],
   "source": [
    "len(un)\n"
   ]
  },
  {
   "cell_type": "code",
   "execution_count": 23,
   "metadata": {
    "collapsed": false
   },
   "outputs": [
    {
     "data": {
      "text/plain": [
       "country                   207\n",
       "region                    207\n",
       "tfr                       197\n",
       "contraception             144\n",
       "educationMale              76\n",
       "educationFemale            76\n",
       "lifeMale                  196\n",
       "lifeFemale                196\n",
       "infantMortality           201\n",
       "GDPperCapita              197\n",
       "economicActivityMale      165\n",
       "economicActivityFemale    165\n",
       "illiteracyMale            160\n",
       "illiteracyFemale          160\n",
       "dtype: int64"
      ]
     },
     "execution_count": 23,
     "metadata": {},
     "output_type": "execute_result"
    }
   ],
   "source": [
    "# Get num of rows, Get num of ******non-null****** values present in each column\n",
    "un.count()\n",
    "\n",
    "# Highest number of missing values (lowest values in output):\n",
    "# educationMale              76\n",
    "# educationFemale            76"
   ]
  },
  {
   "cell_type": "markdown",
   "metadata": {},
   "source": [
    "Based on the number of non-null values, we can cluster on tfr, lifeMale, lifeFemale, infantMortality, GDP/cap"
   ]
  },
  {
   "cell_type": "code",
   "execution_count": 19,
   "metadata": {
    "collapsed": false
   },
   "outputs": [
    {
     "data": {
      "text/plain": [
       "country                    object\n",
       "region                     object\n",
       "tfr                       float64\n",
       "contraception             float64\n",
       "educationMale             float64\n",
       "educationFemale           float64\n",
       "lifeMale                  float64\n",
       "lifeFemale                float64\n",
       "infantMortality           float64\n",
       "GDPperCapita              float64\n",
       "economicActivityMale      float64\n",
       "economicActivityFemale    float64\n",
       "illiteracyMale            float64\n",
       "illiteracyFemale          float64\n",
       "dtype: object"
      ]
     },
     "execution_count": 19,
     "metadata": {},
     "output_type": "execute_result"
    }
   ],
   "source": [
    "# Determine datatype of each column\n",
    "un.dtypes"
   ]
  },
  {
   "cell_type": "code",
   "execution_count": 20,
   "metadata": {
    "collapsed": false
   },
   "outputs": [
    {
     "data": {
      "text/plain": [
       "207"
      ]
     },
     "execution_count": 20,
     "metadata": {},
     "output_type": "execute_result"
    }
   ],
   "source": [
    "# How many countries are present in data? 207\n",
    "len(un['country'])"
   ]
  },
  {
   "cell_type": "markdown",
   "metadata": {},
   "source": [
    "We're going to see how lifeMale, lifeFemale and infantMortality cluster according to GDPperCapita, keeping in mind that we don't know in advance how many clusters there will be."
   ]
  },
  {
   "cell_type": "code",
   "execution_count": 24,
   "metadata": {
    "collapsed": true
   },
   "outputs": [],
   "source": [
    "# Because indexes start from 0, we need columns 6,7,8, and 9\n",
    "data = un.ix[:,:10]\n",
    "data = data.dropna()"
   ]
  },
  {
   "cell_type": "code",
   "execution_count": 26,
   "metadata": {
    "collapsed": false
   },
   "outputs": [
    {
     "name": "stdout",
     "output_type": "stream",
     "text": [
      "[[44.0, 1531.0], [6.0, 20046.0], [6.0, 29006.0], [14.0, 12545.0], [18.0, 9073.0], [7.0, 26582.0], [30.0, 2569.0], [56.0, 3640.0], [97.0, 165.0], [114.0, 205.0], [6.0, 18943.0], [13.0, 4736.0], [9.0, 1983.0], [9.0, 4450.0], [89.0, 117.0], [7.0, 33191.0], [34.0, 1508.0], [54.0, 973.0], [39.0, 1660.0], [98.0, 96.0], [12.0, 2433.0], [7.0, 26444.0], [122.0, 321.0], [23.0, 343.0], [6.0, 29632.0], [5.0, 22898.0], [14.0, 4325.0], [48.0, 1019.0], [95.0, 11308.0], [12.0, 1779.0], [4.0, 41718.0], [9.0, 9736.0], [14.0, 15757.0], [86.0, 359.0], [16.0, 1764.0], [72.0, 486.0], [142.0, 142.0], [52.0, 388.0], [6.0, 25635.0], [7.0, 16866.0], [44.0, 464.0], [5.0, 33734.0], [25.0, 6232.0], [39.0, 1860.0], [45.0, 2497.0], [35.0, 1093.0], [8.0, 10428.0], [17.0, 14013.0], [24.0, 1570.0], [58.0, 1106.0], [48.0, 3230.0], [7.0, 14111.0], [65.0, 1389.0], [5.0, 26253.0], [5.0, 42416.0], [33.0, 3573.0], [14.0, 4083.0], [44.0, 2814.0], [6.0, 18913.0], [7.0, 26037.0], [21.0, 3496.0], [103.0, 382.0]]\n"
     ]
    }
   ],
   "source": [
    "# take data from data for only infant mortality and GDP\n",
    "thelist = []\n",
    "for i, row in data.iterrows():\n",
    "    thelist.append([row['infantMortality'], row['GDPperCapita']])\n",
    "print(thelist)"
   ]
  },
  {
   "cell_type": "code",
   "execution_count": 27,
   "metadata": {
    "collapsed": true
   },
   "outputs": [],
   "source": [
    "# 'flatten' the data and make clusters for k=range(1,10)\n",
    "w = whiten(thelist)"
   ]
  },
  {
   "cell_type": "code",
   "execution_count": 28,
   "metadata": {
    "collapsed": false
   },
   "outputs": [
    {
     "data": {
      "text/plain": [
       "array([[ 1.27920867,  0.13177427],\n",
       "       [ 0.17443755,  1.72537358],\n",
       "       [ 0.17443755,  2.49656719],\n",
       "       [ 0.40702094,  1.07975713],\n",
       "       [ 0.52331264,  0.78091961],\n",
       "       [ 0.20351047,  2.28793178],\n",
       "       [ 0.87218773,  0.22111567],\n",
       "       [ 1.62808377,  0.31329741],\n",
       "       [ 2.82007367,  0.01420167],\n",
       "       [ 3.31431338,  0.0176445 ],\n",
       "       [ 0.17443755,  1.63043758],\n",
       "       [ 0.37794802,  0.40763091],\n",
       "       [ 0.26165632,  0.17067823],\n",
       "       [ 0.26165632,  0.38301469],\n",
       "       [ 2.58749027,  0.01007027],\n",
       "       [ 0.20351047,  2.85677314],\n",
       "       [ 0.98847943,  0.12979464],\n",
       "       [ 1.56993792,  0.08374681],\n",
       "       [ 1.13384405,  0.14287739],\n",
       "       [ 2.84914659,  0.00826279],\n",
       "       [ 0.34887509,  0.20941005],\n",
       "       [ 0.20351047,  2.27605402],\n",
       "       [ 3.54689678,  0.0276287 ],\n",
       "       [ 0.66867726,  0.02952226],\n",
       "       [ 0.17443755,  2.55044746],\n",
       "       [ 0.14536462,  1.97084726],\n",
       "       [ 0.40702094,  0.37225585],\n",
       "       [ 1.39550037,  0.08770606],\n",
       "       [ 2.76192782,  0.97328766],\n",
       "       [ 0.34887509,  0.1531198 ],\n",
       "       [ 0.1162917 ,  3.59069814],\n",
       "       [ 0.26165632,  0.83798449],\n",
       "       [ 0.40702094,  1.35621627],\n",
       "       [ 2.5002715 ,  0.03089939],\n",
       "       [ 0.46516679,  0.15182874],\n",
       "       [ 2.09325056,  0.04183037],\n",
       "       [ 4.12835526,  0.01222204],\n",
       "       [ 1.51179207,  0.03339544],\n",
       "       [ 0.17443755,  2.20642281],\n",
       "       [ 0.20351047,  1.4516687 ],\n",
       "       [ 1.27920867,  0.03993681],\n",
       "       [ 0.14536462,  2.90350954],\n",
       "       [ 0.72682311,  0.5363927 ],\n",
       "       [ 1.13384405,  0.16009153],\n",
       "       [ 1.3082816 ,  0.21491858],\n",
       "       [ 1.01755235,  0.09407529],\n",
       "       [ 0.2325834 ,  0.89754543],\n",
       "       [ 0.49423971,  1.20610895],\n",
       "       [ 0.69775019,  0.13513102],\n",
       "       [ 1.68622962,  0.09519421],\n",
       "       [ 1.39550037,  0.27800841],\n",
       "       [ 0.20351047,  1.21454388],\n",
       "       [ 1.88974009,  0.11955222],\n",
       "       [ 0.14536462,  2.25961451],\n",
       "       [ 0.14536462,  3.6507755 ],\n",
       "       [ 0.95940651,  0.30753067],\n",
       "       [ 0.40702094,  0.35142673],\n",
       "       [ 1.27920867,  0.242203  ],\n",
       "       [ 0.17443755,  1.62785546],\n",
       "       [ 0.20351047,  2.24102324],\n",
       "       [ 0.61053141,  0.30090322],\n",
       "       [ 2.99451121,  0.03287901]])"
      ]
     },
     "execution_count": 28,
     "metadata": {},
     "output_type": "execute_result"
    }
   ],
   "source": [
    "w"
   ]
  },
  {
   "cell_type": "code",
   "execution_count": null,
   "metadata": {
    "collapsed": true
   },
   "outputs": [],
   "source": []
  }
 ],
 "metadata": {
  "kernelspec": {
   "display_name": "Python 3",
   "language": "python",
   "name": "python3"
  },
  "language_info": {
   "codemirror_mode": {
    "name": "ipython",
    "version": 3
   },
   "file_extension": ".py",
   "mimetype": "text/x-python",
   "name": "python",
   "nbconvert_exporter": "python",
   "pygments_lexer": "ipython3",
   "version": "3.4.3"
  }
 },
 "nbformat": 4,
 "nbformat_minor": 0
}
